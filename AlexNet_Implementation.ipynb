{
  "nbformat": 4,
  "nbformat_minor": 0,
  "metadata": {
    "colab": {
      "provenance": [],
      "authorship_tag": "ABX9TyO3nw/ykWIk4TrWKjhkOVy4",
      "include_colab_link": true
    },
    "kernelspec": {
      "name": "python3",
      "display_name": "Python 3"
    },
    "language_info": {
      "name": "python"
    },
    "accelerator": "GPU",
    "gpuClass": "standard"
  },
  "cells": [
    {
      "cell_type": "markdown",
      "metadata": {
        "id": "view-in-github",
        "colab_type": "text"
      },
      "source": [
        "<a href=\"https://colab.research.google.com/github/anish2105/CNN/blob/main/AlexNet_Implementation.ipynb\" target=\"_parent\"><img src=\"https://colab.research.google.com/assets/colab-badge.svg\" alt=\"Open In Colab\"/></a>"
      ]
    },
    {
      "cell_type": "markdown",
      "source": [
        "**AlexNet Code Implementation**"
      ],
      "metadata": {
        "id": "yAYEHeenruAv"
      }
    },
    {
      "cell_type": "code",
      "source": [
        "!pip install tflearn"
      ],
      "metadata": {
        "colab": {
          "base_uri": "https://localhost:8080/"
        },
        "id": "_jxhaJTWrzMX",
        "outputId": "c64aeeae-2e06-40fd-d3f9-24547acbf687"
      },
      "execution_count": 1,
      "outputs": [
        {
          "output_type": "stream",
          "name": "stdout",
          "text": [
            "Looking in indexes: https://pypi.org/simple, https://us-python.pkg.dev/colab-wheels/public/simple/\n",
            "Requirement already satisfied: tflearn in /usr/local/lib/python3.8/dist-packages (0.5.0)\n",
            "Requirement already satisfied: Pillow in /usr/local/lib/python3.8/dist-packages (from tflearn) (7.1.2)\n",
            "Requirement already satisfied: six in /usr/local/lib/python3.8/dist-packages (from tflearn) (1.15.0)\n",
            "Requirement already satisfied: numpy in /usr/local/lib/python3.8/dist-packages (from tflearn) (1.21.6)\n"
          ]
        }
      ]
    },
    {
      "cell_type": "code",
      "source": [
        "import tensorflow as tf\n",
        "import keras \n",
        "from keras.models import Sequential \n",
        "from tensorflow.keras.utils import to_categorical , plot_model\n",
        "from keras.layers import Dense , Flatten , Activation , Dropout ,Conv2D , MaxPooling2D\n",
        "from keras.layers import BatchNormalization\n",
        "import numpy as np\n",
        "np.random.seed(1000)\n"
      ],
      "metadata": {
        "id": "h0A58FSesOa_"
      },
      "execution_count": 2,
      "outputs": []
    },
    {
      "cell_type": "code",
      "source": [
        "import tflearn.datasets.oxflower17 as oxflower17\n",
        "x , y = oxflower17.load_data(one_hot = True)"
      ],
      "metadata": {
        "colab": {
          "base_uri": "https://localhost:8080/"
        },
        "id": "JzgVIhg0JysV",
        "outputId": "7f98f3fd-0dd6-4ac2-d214-b720c152cef2"
      },
      "execution_count": 3,
      "outputs": [
        {
          "output_type": "stream",
          "name": "stderr",
          "text": [
            "WARNING:tensorflow:From /usr/local/lib/python3.8/dist-packages/tensorflow/python/compat/v2_compat.py:107: disable_resource_variables (from tensorflow.python.ops.variable_scope) is deprecated and will be removed in a future version.\n",
            "Instructions for updating:\n",
            "non-resource variables are not supported in the long term\n"
          ]
        }
      ]
    },
    {
      "cell_type": "code",
      "source": [
        "model = Sequential()\n",
        "#1st Convolutional Layer\n",
        "model.add(Conv2D(filters = 96 , input_shape = (224 , 224, 3) , kernel_size = (11,11),strides = (4,4) , padding = 'valid'))\n",
        "model.add(Activation('relu'))\n",
        "\n",
        "model.add(MaxPooling2D(pool_size = (2,2) , strides = (2,2) , padding = 'valid'))\n",
        "model.add(BatchNormalization())\n",
        "\n",
        "# 2nd Convolutional Layer\n",
        "model.add(Conv2D(filters = 256  ,kernel_size = (11,11), strides = (1,1) ,padding = 'valid' ))\n",
        "model.add(Activation('relu'))\n",
        "\n",
        "model.add(BatchNormalization())\n",
        "\n",
        "# 3rd Convolutional Layer\n",
        "model.add(Conv2D(filters = 384  ,kernel_size = (3,3), strides = (1,1) ,padding = 'valid' ))\n",
        "model.add(Activation('relu'))\n",
        "\n",
        "model.add(BatchNormalization())\n",
        "\n",
        "#4TH Convoluation Layer\n",
        "model.add(Conv2D(filters = 384  ,kernel_size = (3,3), strides = (1,1) ,padding = 'valid' ))\n",
        "model.add(Activation('relu'))\n",
        "\n",
        "model.add(BatchNormalization())\n",
        "\n",
        "# 5th Convolutional Layer\n",
        "model.add(Conv2D(filters=256, kernel_size=(3,3), strides=(1,1), padding='valid'))\n",
        "model.add(Activation('relu'))\n",
        "# Pooling\n",
        "model.add(MaxPooling2D(pool_size=(2,2), strides=(2,2), padding='valid'))\n",
        "# Batch Normalisation\n",
        "model.add(BatchNormalization())\n",
        "\n",
        "#Passing it to a dense layer\n",
        "\n",
        "model.add(Flatten())\n",
        "#1st Dense Layer\n",
        "model.add(Dense(4096 , input_shape = (224*224*3,)))\n",
        "model.add(Activation('relu'))\n",
        "#Add Dropou to prevent Overfitting\n",
        "model.add(Dropout(0.4))\n",
        "model.add(BatchNormalization())\n",
        "\n",
        "#2nd Dense Layer\n",
        "model.add(Dense(4096 ))\n",
        "model.add(Activation('relu'))\n",
        "#Add Dropou to prevent Overfitting\n",
        "model.add(Dropout(0.4))\n",
        "model.add(BatchNormalization())\n",
        "\n",
        "#3rd Dense Layer\n",
        "model.add(Dense(1000))\n",
        "model.add(Activation('relu'))\n",
        "#Add Dropou to prevent Overfitting\n",
        "model.add(Dropout(0.4))\n",
        "model.add(BatchNormalization())\n",
        "\n",
        "#Output Layer\n",
        "model.add(Dense(17))\n",
        "model.add(Activation('softmax'))\n",
        "\n",
        "model.summary()\n",
        "\n",
        "#Compile\n",
        "model.compile(loss = 'categorical_crossentropy' , optimizer = 'adam' , metrics = ['accuracy'])\n",
        "#Fit\n",
        "model.fit(x,y,batch_size = 64 , epochs = 30 , verbose =1 )"
      ],
      "metadata": {
        "colab": {
          "base_uri": "https://localhost:8080/"
        },
        "id": "i_V1X_Y1KNi6",
        "outputId": "4ce8b15b-6fbb-4b00-a931-d34186effc45"
      },
      "execution_count": 4,
      "outputs": [
        {
          "output_type": "stream",
          "name": "stderr",
          "text": [
            "WARNING:tensorflow:From /usr/local/lib/python3.8/dist-packages/keras/layers/normalization/batch_normalization.py:514: _colocate_with (from tensorflow.python.framework.ops) is deprecated and will be removed in a future version.\n",
            "Instructions for updating:\n",
            "Colocations handled automatically by placer.\n"
          ]
        },
        {
          "output_type": "stream",
          "name": "stdout",
          "text": [
            "Model: \"sequential\"\n",
            "_________________________________________________________________\n",
            " Layer (type)                Output Shape              Param #   \n",
            "=================================================================\n",
            " conv2d (Conv2D)             (None, 54, 54, 96)        34944     \n",
            "                                                                 \n",
            " activation (Activation)     (None, 54, 54, 96)        0         \n",
            "                                                                 \n",
            " max_pooling2d (MaxPooling2D  (None, 27, 27, 96)       0         \n",
            " )                                                               \n",
            "                                                                 \n",
            " batch_normalization (BatchN  (None, 27, 27, 96)       384       \n",
            " ormalization)                                                   \n",
            "                                                                 \n",
            " conv2d_1 (Conv2D)           (None, 17, 17, 256)       2973952   \n",
            "                                                                 \n",
            " activation_1 (Activation)   (None, 17, 17, 256)       0         \n",
            "                                                                 \n",
            " batch_normalization_1 (Batc  (None, 17, 17, 256)      1024      \n",
            " hNormalization)                                                 \n",
            "                                                                 \n",
            " conv2d_2 (Conv2D)           (None, 15, 15, 384)       885120    \n",
            "                                                                 \n",
            " activation_2 (Activation)   (None, 15, 15, 384)       0         \n",
            "                                                                 \n",
            " batch_normalization_2 (Batc  (None, 15, 15, 384)      1536      \n",
            " hNormalization)                                                 \n",
            "                                                                 \n",
            " conv2d_3 (Conv2D)           (None, 13, 13, 384)       1327488   \n",
            "                                                                 \n",
            " activation_3 (Activation)   (None, 13, 13, 384)       0         \n",
            "                                                                 \n",
            " batch_normalization_3 (Batc  (None, 13, 13, 384)      1536      \n",
            " hNormalization)                                                 \n",
            "                                                                 \n",
            " conv2d_4 (Conv2D)           (None, 11, 11, 256)       884992    \n",
            "                                                                 \n",
            " activation_4 (Activation)   (None, 11, 11, 256)       0         \n",
            "                                                                 \n",
            " max_pooling2d_1 (MaxPooling  (None, 5, 5, 256)        0         \n",
            " 2D)                                                             \n",
            "                                                                 \n",
            " batch_normalization_4 (Batc  (None, 5, 5, 256)        1024      \n",
            " hNormalization)                                                 \n",
            "                                                                 \n",
            " flatten (Flatten)           (None, 6400)              0         \n",
            "                                                                 \n",
            " dense (Dense)               (None, 4096)              26218496  \n",
            "                                                                 \n",
            " activation_5 (Activation)   (None, 4096)              0         \n",
            "                                                                 \n",
            " dropout (Dropout)           (None, 4096)              0         \n",
            "                                                                 \n",
            " batch_normalization_5 (Batc  (None, 4096)             16384     \n",
            " hNormalization)                                                 \n",
            "                                                                 \n",
            " dense_1 (Dense)             (None, 4096)              16781312  \n",
            "                                                                 \n",
            " activation_6 (Activation)   (None, 4096)              0         \n",
            "                                                                 \n",
            " dropout_1 (Dropout)         (None, 4096)              0         \n",
            "                                                                 \n",
            " batch_normalization_6 (Batc  (None, 4096)             16384     \n",
            " hNormalization)                                                 \n",
            "                                                                 \n",
            " dense_2 (Dense)             (None, 1000)              4097000   \n",
            "                                                                 \n",
            " activation_7 (Activation)   (None, 1000)              0         \n",
            "                                                                 \n",
            " dropout_2 (Dropout)         (None, 1000)              0         \n",
            "                                                                 \n",
            " batch_normalization_7 (Batc  (None, 1000)             4000      \n",
            " hNormalization)                                                 \n",
            "                                                                 \n",
            " dense_3 (Dense)             (None, 17)                17017     \n",
            "                                                                 \n",
            " activation_8 (Activation)   (None, 17)                0         \n",
            "                                                                 \n",
            "=================================================================\n",
            "Total params: 53,262,593\n",
            "Trainable params: 53,241,457\n",
            "Non-trainable params: 21,136\n",
            "_________________________________________________________________\n",
            "Train on 1360 samples\n",
            "Epoch 1/30\n",
            "1360/1360 [==============================] - 9s 7ms/sample - loss: 2.8195 - acc: 0.2412\n",
            "Epoch 2/30\n",
            "1360/1360 [==============================] - 2s 2ms/sample - loss: 2.0648 - acc: 0.3713\n",
            "Epoch 3/30\n",
            "1360/1360 [==============================] - 2s 2ms/sample - loss: 1.7395 - acc: 0.4419\n",
            "Epoch 4/30\n",
            "1360/1360 [==============================] - 2s 2ms/sample - loss: 1.6455 - acc: 0.4809\n",
            "Epoch 5/30\n",
            "1360/1360 [==============================] - 2s 2ms/sample - loss: 1.4862 - acc: 0.5000\n",
            "Epoch 6/30\n",
            "1360/1360 [==============================] - 2s 2ms/sample - loss: 1.3663 - acc: 0.5588\n",
            "Epoch 7/30\n",
            "1360/1360 [==============================] - 2s 2ms/sample - loss: 1.3114 - acc: 0.5728\n",
            "Epoch 8/30\n",
            "1360/1360 [==============================] - 2s 2ms/sample - loss: 1.2245 - acc: 0.5860\n",
            "Epoch 9/30\n",
            "1360/1360 [==============================] - 2s 2ms/sample - loss: 1.1052 - acc: 0.6265\n",
            "Epoch 10/30\n",
            "1360/1360 [==============================] - 2s 2ms/sample - loss: 1.0419 - acc: 0.6478\n",
            "Epoch 11/30\n",
            "1360/1360 [==============================] - 2s 2ms/sample - loss: 0.9068 - acc: 0.7044\n",
            "Epoch 12/30\n",
            "1360/1360 [==============================] - 2s 2ms/sample - loss: 0.8701 - acc: 0.7110\n",
            "Epoch 13/30\n",
            "1360/1360 [==============================] - 2s 2ms/sample - loss: 0.9156 - acc: 0.6904\n",
            "Epoch 14/30\n",
            "1360/1360 [==============================] - 2s 2ms/sample - loss: 0.8444 - acc: 0.7228\n",
            "Epoch 15/30\n",
            "1360/1360 [==============================] - 2s 2ms/sample - loss: 0.7355 - acc: 0.7493\n",
            "Epoch 16/30\n",
            "1360/1360 [==============================] - 2s 2ms/sample - loss: 0.6049 - acc: 0.8051\n",
            "Epoch 17/30\n",
            "1360/1360 [==============================] - 2s 2ms/sample - loss: 0.5944 - acc: 0.8140\n",
            "Epoch 18/30\n",
            "1360/1360 [==============================] - 2s 2ms/sample - loss: 0.6571 - acc: 0.7838\n",
            "Epoch 19/30\n",
            "1360/1360 [==============================] - 2s 2ms/sample - loss: 0.5727 - acc: 0.8103\n",
            "Epoch 20/30\n",
            "1360/1360 [==============================] - 2s 2ms/sample - loss: 0.4785 - acc: 0.8397\n",
            "Epoch 21/30\n",
            "1360/1360 [==============================] - 2s 2ms/sample - loss: 0.3849 - acc: 0.8596\n",
            "Epoch 22/30\n",
            "1360/1360 [==============================] - 2s 2ms/sample - loss: 0.4132 - acc: 0.8551\n",
            "Epoch 23/30\n",
            "1360/1360 [==============================] - 2s 2ms/sample - loss: 0.3066 - acc: 0.8941\n",
            "Epoch 24/30\n",
            "1360/1360 [==============================] - 2s 2ms/sample - loss: 0.3102 - acc: 0.8971\n",
            "Epoch 25/30\n",
            "1360/1360 [==============================] - 2s 2ms/sample - loss: 0.2900 - acc: 0.8993\n",
            "Epoch 26/30\n",
            "1360/1360 [==============================] - 2s 2ms/sample - loss: 0.2883 - acc: 0.9059\n",
            "Epoch 27/30\n",
            "1360/1360 [==============================] - 2s 2ms/sample - loss: 0.2835 - acc: 0.9074\n",
            "Epoch 28/30\n",
            "1360/1360 [==============================] - 2s 2ms/sample - loss: 0.2641 - acc: 0.9037\n",
            "Epoch 29/30\n",
            "1360/1360 [==============================] - 2s 2ms/sample - loss: 0.2062 - acc: 0.9279\n",
            "Epoch 30/30\n",
            "1360/1360 [==============================] - 2s 2ms/sample - loss: 0.2048 - acc: 0.9368\n"
          ]
        },
        {
          "output_type": "execute_result",
          "data": {
            "text/plain": [
              "<keras.callbacks.History at 0x7fad34027730>"
            ]
          },
          "metadata": {},
          "execution_count": 4
        }
      ]
    },
    {
      "cell_type": "code",
      "source": [],
      "metadata": {
        "id": "9KpPtHdIM0O7"
      },
      "execution_count": 4,
      "outputs": []
    }
  ]
}