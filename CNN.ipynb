{
  "nbformat": 4,
  "nbformat_minor": 0,
  "metadata": {
    "colab": {
      "provenance": []
    },
    "kernelspec": {
      "name": "python3",
      "display_name": "Python 3"
    },
    "language_info": {
      "name": "python"
    },
    "accelerator": "GPU",
    "gpuClass": "standard"
  },
  "cells": [
    {
      "cell_type": "markdown",
      "source": [
        "CNN"
      ],
      "metadata": {
        "id": "K8FiKoNBeALp"
      }
    },
    {
      "cell_type": "code",
      "source": [
        "%tensorflow_version 2.x\n",
        "import tensorflow\n",
        "tensorflow.__version__"
      ],
      "metadata": {
        "colab": {
          "base_uri": "https://localhost:8080/",
          "height": 55
        },
        "id": "Cun8nMw1d9Aj",
        "outputId": "d251e148-9792-49aa-a5b6-b3f67fbc34b4"
      },
      "execution_count": 1,
      "outputs": [
        {
          "output_type": "stream",
          "name": "stdout",
          "text": [
            "Colab only includes TensorFlow 2.x; %tensorflow_version has no effect.\n"
          ]
        },
        {
          "output_type": "execute_result",
          "data": {
            "text/plain": [
              "'2.9.2'"
            ],
            "application/vnd.google.colaboratory.intrinsic+json": {
              "type": "string"
            }
          },
          "metadata": {},
          "execution_count": 1
        }
      ]
    },
    {
      "cell_type": "code",
      "source": [
        "import numpy as np\n",
        "import pandas as pd\n",
        "import matplotlib.pyplot as plt\n",
        "%matplotlib inline\n",
        "from keras.models import Sequential\n",
        "import tensorflow\n",
        "from tensorflow.keras.optimizers import Adam # or RMSprop\n",
        "from tensorflow.keras.utils import to_categorical , plot_model\n",
        "from keras import backend as K\n",
        "from keras.layers import Dense\n",
        "from keras.layers import Dense , Activation , Flatten\n",
        "from keras.layers.convolutional import Conv2D , MaxPooling2D\n",
        "\n"
      ],
      "metadata": {
        "id": "aa7fWX32eNQp"
      },
      "execution_count": 2,
      "outputs": []
    },
    {
      "cell_type": "code",
      "source": [
        "import random\n",
        "random.seed(0)\n",
        "\n",
        "import warnings\n",
        "warnings.filterwarnings('ignore')"
      ],
      "metadata": {
        "id": "9gmjW3hsgGva"
      },
      "execution_count": 3,
      "outputs": []
    },
    {
      "cell_type": "markdown",
      "source": [
        "\n",
        "Loading MNIST dataset\n",
        "\n"
      ],
      "metadata": {
        "id": "YTV_xkfRgsMs"
      }
    },
    {
      "cell_type": "code",
      "source": [
        "from tensorflow.keras.datasets import mnist\n",
        "(X_train , y_train ) , (X_test , y_test) = mnist.load_data()"
      ],
      "metadata": {
        "id": "jmU2k16zgyVS"
      },
      "execution_count": 4,
      "outputs": []
    },
    {
      "cell_type": "markdown",
      "source": [
        "Let's visualize some numbers using matplotlib"
      ],
      "metadata": {
        "id": "Tj_QoNPkhD_h"
      }
    },
    {
      "cell_type": "code",
      "source": [
        "print(\"Label: {}\" .format(y_train[8000]))\n",
        "plt.imshow(X_train[8000] , cmap = 'gray')"
      ],
      "metadata": {
        "colab": {
          "base_uri": "https://localhost:8080/",
          "height": 302
        },
        "id": "SLRRHxnfg_yL",
        "outputId": "9f5e8a57-f52b-459f-e062-5a19199f17ac"
      },
      "execution_count": 5,
      "outputs": [
        {
          "output_type": "stream",
          "name": "stdout",
          "text": [
            "Label: 0\n"
          ]
        },
        {
          "output_type": "execute_result",
          "data": {
            "text/plain": [
              "<matplotlib.image.AxesImage at 0x7fdcf68fadf0>"
            ]
          },
          "metadata": {},
          "execution_count": 5
        },
        {
          "output_type": "display_data",
          "data": {
            "text/plain": [
              "<Figure size 432x288 with 1 Axes>"
            ],
            "image/png": "[encoded data removed]"
          },
          "metadata": {
            "needs_background": "light"
          }
        }
      ]
    },
    {
      "cell_type": "markdown",
      "source": [
        "**DATA PREPROCESSING**"
      ],
      "metadata": {
        "id": "b3l1g2MiheqO"
      }
    },
    {
      "cell_type": "code",
      "source": [
        "print(X_train.shape)\n",
        "print(X_test.shape)\n",
        "print(y_train.shape)\n",
        "print(y_test.shape)"
      ],
      "metadata": {
        "colab": {
          "base_uri": "https://localhost:8080/"
        },
        "id": "Xv0t3B7WhQMy",
        "outputId": "ea4e686f-7c0a-4c19-b04f-4f433580e881"
      },
      "execution_count": 6,
      "outputs": [
        {
          "output_type": "stream",
          "name": "stdout",
          "text": [
            "(60000, 28, 28)\n",
            "(10000, 28, 28)\n",
            "(60000,)\n",
            "(10000,)\n"
          ]
        }
      ]
    },
    {
      "cell_type": "markdown",
      "source": [
        "Reshape"
      ],
      "metadata": {
        "id": "pDyYdVxkhtix"
      }
    },
    {
      "cell_type": "code",
      "source": [
        "X_train = X_train.reshape(X_train.shape[0] , 28,28,1)\n",
        "X_test = X_test.reshape(X_test.shape[0] , 28,28,1)"
      ],
      "metadata": {
        "id": "-r7msGWAhsH6"
      },
      "execution_count": 7,
      "outputs": []
    },
    {
      "cell_type": "code",
      "source": [
        "X_train.shape"
      ],
      "metadata": {
        "colab": {
          "base_uri": "https://localhost:8080/"
        },
        "id": "UtIft1_oiSZM",
        "outputId": "4db151c1-18b9-435b-87b6-4d205d3c9a74"
      },
      "execution_count": 8,
      "outputs": [
        {
          "output_type": "execute_result",
          "data": {
            "text/plain": [
              "(60000, 28, 28, 1)"
            ]
          },
          "metadata": {},
          "execution_count": 8
        }
      ]
    },
    {
      "cell_type": "markdown",
      "source": [
        "Normalize Data"
      ],
      "metadata": {
        "id": "QNqJ9g2XiP8_"
      }
    },
    {
      "cell_type": "code",
      "source": [
        "X_train = X_train.astype('float32')\n",
        "X_test = X_test.astype('float32')\n",
        "\n",
        "X_train /= 255\n",
        "X_test /= 255"
      ],
      "metadata": {
        "id": "Ih6h3fW6iOGZ"
      },
      "execution_count": 9,
      "outputs": []
    },
    {
      "cell_type": "markdown",
      "source": [
        "Print shape of data and number of images"
      ],
      "metadata": {
        "id": "Y-JdBqd-iznI"
      }
    },
    {
      "cell_type": "code",
      "source": [
        "print(\"X_train shape:\", X_train.shape)\n",
        "print(\"Images in X_train:\", X_train.shape[0])\n",
        "print(\"Images in X_test:\", X_test.shape[0])\n",
        "print(\"Max value in X_train:\", X_train.max())\n",
        "print(\"Min value in X_train:\", X_train.min())"
      ],
      "metadata": {
        "colab": {
          "base_uri": "https://localhost:8080/"
        },
        "id": "-AGRolCKisxp",
        "outputId": "ca1501ff-1268-458a-c766-1ed27ab7e825"
      },
      "execution_count": 10,
      "outputs": [
        {
          "output_type": "stream",
          "name": "stdout",
          "text": [
            "X_train shape: (60000, 28, 28, 1)\n",
            "Images in X_train: 60000\n",
            "Images in X_test: 10000\n",
            "Max value in X_train: 1.0\n",
            "Min value in X_train: 0.0\n"
          ]
        }
      ]
    },
    {
      "cell_type": "markdown",
      "source": [
        "One-hot encode the class vector "
      ],
      "metadata": {
        "id": "7a3A4k92i_TW"
      }
    },
    {
      "cell_type": "code",
      "source": [
        "y_train = to_categorical(y_train , num_classes = 10)\n",
        "y_test = to_categorical(y_test, num_classes = 10)\n",
        "\n",
        "print(\"Shape of y_train: \" , y_train.shape)\n",
        "print(\"One value of y_train\" , y_train[0])"
      ],
      "metadata": {
        "colab": {
          "base_uri": "https://localhost:8080/"
        },
        "id": "Z0KkBrh6i7Mx",
        "outputId": "c9aae956-5e40-4053-a5bf-70a67619fec0"
      },
      "execution_count": 11,
      "outputs": [
        {
          "output_type": "stream",
          "name": "stdout",
          "text": [
            "Shape of y_train:  (60000, 10)\n",
            "One value of y_train [0. 0. 0. 0. 0. 1. 0. 0. 0. 0.]\n"
          ]
        }
      ]
    },
    {
      "cell_type": "markdown",
      "source": [
        "**Building Convolution Neural Network**"
      ],
      "metadata": {
        "id": "01w5qPKrkt37"
      }
    },
    {
      "cell_type": "markdown",
      "source": [
        "*   define a sequential model\n",
        "*   add 2 convolutional layers\n",
        "\n",
        "1.   no of filters: 32\n",
        "2.   kernel size: 3x3\n",
        "3.   activation: \"relu\"\n",
        "4.   input shape: (28, 28, 1) for first layer\n",
        "\n",
        "* flatten the data\n",
        "1.    add Flatten later\n",
        "2.    flatten layers flatten 2D arrays to 1D array before building the fully connected layers\n",
        "\n",
        "* add 2 dense layers\n",
        "1.    number of neurons in first layer: 128\n",
        "2.    number of neurons in last layer: number of classes\n",
        "3.    activation function in first layer: relu\n",
        "4.    activation function in last layer: softmax\n",
        "5.    we may experiment with any number of neurons for the first Dense layer; however, the final Dense layer must have neurons equal to the number of output classes"
      ],
      "metadata": {
        "id": "ZkDujbK5k5FT"
      }
    },
    {
      "cell_type": "code",
      "source": [
        "model = Sequential()\n",
        "\n",
        "model.add(Conv2D(filters = 32 , kernel_size = 3 , activation = 'relu' , input_shape = (28,28,1)))\n",
        "model.add(Conv2D(filters = 32 , kernel_size = 3 , activation = 'relu'))\n",
        "model.add(Flatten()) #Flattening is used to convert all the resultant 2-Dimensional arrays from pooled feature maps into a single long continuous linear vector.\n",
        "model.add(Dense(128 , activation = 'relu'))\n",
        "model.add(Dense(10 , activation = 'softmax'))"
      ],
      "metadata": {
        "id": "ltBbL5JSkjTJ"
      },
      "execution_count": 12,
      "outputs": []
    },
    {
      "cell_type": "markdown",
      "source": [
        "**Compile and fit the model**"
      ],
      "metadata": {
        "id": "gOkLrOPsbmwa"
      }
    },
    {
      "cell_type": "markdown",
      "metadata": {
        "id": "c74LMVBg3AXb"
      },
      "source": [
        "### Compile and fit the model\n",
        "- let's compile our model\n",
        "    - loss: \"categorical_crossentropy\"\n",
        "    - metrics: \"accuracy\"\n",
        "    - optimizer: \"adam\"\n",
        "- then next step will be to fit model\n",
        "    - give train data - training features and labels\n",
        "    - batch size: 32\n",
        "    - epochs: 10\n",
        "    - give validation data - testing features and labels"
      ]
    },
    {
      "cell_type": "code",
      "source": [
        "model.compile(loss = 'categorical_crossentropy' , metrics = ['accuracy'] , optimizer = 'adam')\n",
        "\n",
        "model.fit(x = X_train , y = y_train , batch_size = 32 , epochs = 10 , validation_split = 0.3)"
      ],
      "metadata": {
        "colab": {
          "base_uri": "https://localhost:8080/"
        },
        "id": "-Y4Hlt3Db16y",
        "outputId": "6d21f466-f4f6-451b-edd1-b26a9362fdf3"
      },
      "execution_count": 13,
      "outputs": [
        {
          "output_type": "stream",
          "name": "stdout",
          "text": [
            "Epoch 1/10\n",
            "1313/1313 [==============================] - 14s 8ms/step - loss: 0.1302 - accuracy: 0.9599 - val_loss: 0.0640 - val_accuracy: 0.9806\n",
            "Epoch 2/10\n",
            "1313/1313 [==============================] - 8s 6ms/step - loss: 0.0408 - accuracy: 0.9869 - val_loss: 0.0536 - val_accuracy: 0.9851\n",
            "Epoch 3/10\n",
            "1313/1313 [==============================] - 6s 5ms/step - loss: 0.0248 - accuracy: 0.9919 - val_loss: 0.0530 - val_accuracy: 0.9848\n",
            "Epoch 4/10\n",
            "1313/1313 [==============================] - 6s 5ms/step - loss: 0.0156 - accuracy: 0.9949 - val_loss: 0.0598 - val_accuracy: 0.9850\n",
            "Epoch 5/10\n",
            "1313/1313 [==============================] - 7s 5ms/step - loss: 0.0115 - accuracy: 0.9961 - val_loss: 0.0610 - val_accuracy: 0.9855\n",
            "Epoch 6/10\n",
            "1313/1313 [==============================] - 6s 5ms/step - loss: 0.0096 - accuracy: 0.9970 - val_loss: 0.0640 - val_accuracy: 0.9863\n",
            "Epoch 7/10\n",
            "1313/1313 [==============================] - 6s 5ms/step - loss: 0.0088 - accuracy: 0.9970 - val_loss: 0.0790 - val_accuracy: 0.9836\n",
            "Epoch 8/10\n",
            "1313/1313 [==============================] - 6s 5ms/step - loss: 0.0061 - accuracy: 0.9980 - val_loss: 0.0731 - val_accuracy: 0.9860\n",
            "Epoch 9/10\n",
            "1313/1313 [==============================] - 6s 5ms/step - loss: 0.0054 - accuracy: 0.9981 - val_loss: 0.0954 - val_accuracy: 0.9834\n",
            "Epoch 10/10\n",
            "1313/1313 [==============================] - 6s 5ms/step - loss: 0.0057 - accuracy: 0.9980 - val_loss: 0.0907 - val_accuracy: 0.9843\n"
          ]
        },
        {
          "output_type": "execute_result",
          "data": {
            "text/plain": [
              "<keras.callbacks.History at 0x7fdce00e7970>"
            ]
          },
          "metadata": {},
          "execution_count": 13
        }
      ]
    },
    {
      "cell_type": "markdown",
      "source": [
        "Final loss and accuracy"
      ],
      "metadata": {
        "id": "8oSWjbZjcgom"
      }
    },
    {
      "cell_type": "code",
      "source": [
        "loss , acc = model.evaluate(X_test , y_test)\n",
        "print(\"\\n Test accuracy: %.lf%%\" %(100.0*acc))\n",
        "\n",
        "loss , acc = model.evaluate(X_train , y_train)\n",
        "print(\"\\n Train accuracy: %.lf%%\" %(100.0*acc))"
      ],
      "metadata": {
        "colab": {
          "base_uri": "https://localhost:8080/"
        },
        "id": "rIz2Q-KrcPED",
        "outputId": "ac468b68-33ab-4ccd-b58e-ca999f3563e6"
      },
      "execution_count": 14,
      "outputs": [
        {
          "output_type": "stream",
          "name": "stdout",
          "text": [
            "313/313 [==============================] - 1s 3ms/step - loss: 0.0729 - accuracy: 0.9860\n",
            "\n",
            " Test accuracy: 99%\n",
            "1875/1875 [==============================] - 6s 3ms/step - loss: 0.0311 - accuracy: 0.9942\n",
            "\n",
            " Train accuracy: 99%\n"
          ]
        }
      ]
    },
    {
      "cell_type": "markdown",
      "metadata": {
        "id": "SAA84Lfv4LVZ"
      },
      "source": [
        "### Initialize a sequential model again\n",
        "- define a sequential model\n",
        "- add 2 convolutional layers\n",
        "    - no of filters: 32\n",
        "    - kernel size: 3x3\n",
        "    - activation: \"relu\"\n",
        "    - input shape: (28, 28, 1) for first layer\n",
        "- add a max pooling layer of size 2x2\n",
        "- add a dropout layer\n",
        "    - dropout layers fight with the overfitting by disregarding some of the neurons while training\n",
        "    - use dropout rate 0.2\n",
        "- flatten the data\n",
        "    - add Flatten later\n",
        "    - flatten layers flatten 2D arrays to 1D array before building the fully connected layers\n",
        "- add 2 dense layers\n",
        "    - number of neurons in first layer: 128\n",
        "    - number of neurons in last layer: number of classes\n",
        "    - activation function in first layer: relu\n",
        "    - activation function in last layer: softmax\n",
        "    - we may experiment with any number of neurons for the first Dense layer; however, the final Dense layer must have neurons equal to the number of output classes"
      ]
    },
    {
      "cell_type": "code",
      "source": [
        "from tensorflow.keras.layers import Conv2D, Dropout, MaxPooling2D\n",
        "model = Sequential()\n",
        "\n",
        "model.add(Conv2D(filters = 32, kernel_size =3 , activation = 'relu' , input_shape = (28,28,1)))\n",
        "model.add(Conv2D(filters = 32, kernel_size =3 , activation = 'relu'))\n",
        "model.add(MaxPooling2D(pool_size = (2,2)))\n",
        "model.add(Dropout(rate = 0.2))\n",
        "model.add(Flatten())\n",
        "model.add(Dense(128 , activation = 'relu'))\n",
        "model.add(Dense(10 , activation = 'softmax'))"
      ],
      "metadata": {
        "id": "Iow4uITvdVuo"
      },
      "execution_count": 15,
      "outputs": []
    },
    {
      "cell_type": "markdown",
      "metadata": {
        "id": "rTTqCN1g5KVf"
      },
      "source": [
        "### Compile and fit the model\n",
        "- let's compile our model\n",
        "    - loss: \"categorical_crossentropy\"\n",
        "    - metrics: \"accuracy\"\n",
        "    - optimizer: \"adam\"\n",
        "- Use EarlyStopping\n",
        "- then next step will be to fit model\n",
        "    - give train data - training features and labels\n",
        "    - batch size: 32\n",
        "    - epochs: 10\n",
        "    - give validation data - testing features and labels"
      ]
    },
    {
      "cell_type": "code",
      "source": [
        "model.compile(loss = 'categorical_crossentropy' , metrics = ['accuracy'] , optimizer = 'adam')\n",
        "\n",
        "callback = tensorflow.keras.callbacks.EarlyStopping(monitor = 'val_accuracy' , patience = 2 , min_delta = 0.01)\n",
        "\n",
        "model.fit(x = X_train , y = y_train , batch_size = 32 , epochs = 10 , validation_data = (X_test , y_test) , callbacks = [callback])"
      ],
      "metadata": {
        "colab": {
          "base_uri": "https://localhost:8080/"
        },
        "id": "K5A-Lovvesrg",
        "outputId": "e8850431-b41c-4163-f325-92ee485ee0ef"
      },
      "execution_count": 16,
      "outputs": [
        {
          "output_type": "stream",
          "name": "stdout",
          "text": [
            "Epoch 1/10\n",
            "1875/1875 [==============================] - 8s 4ms/step - loss: 0.1315 - accuracy: 0.9600 - val_loss: 0.0496 - val_accuracy: 0.9835\n",
            "Epoch 2/10\n",
            "1875/1875 [==============================] - 8s 4ms/step - loss: 0.0448 - accuracy: 0.9854 - val_loss: 0.0377 - val_accuracy: 0.9865\n",
            "Epoch 3/10\n",
            "1875/1875 [==============================] - 8s 4ms/step - loss: 0.0291 - accuracy: 0.9908 - val_loss: 0.0295 - val_accuracy: 0.9904\n"
          ]
        },
        {
          "output_type": "execute_result",
          "data": {
            "text/plain": [
              "<keras.callbacks.History at 0x7fdc922ecd90>"
            ]
          },
          "metadata": {},
          "execution_count": 16
        }
      ]
    },
    {
      "cell_type": "code",
      "source": [
        "import matplotlib.pyplot as plt\n",
        "%matplotlib inline\n",
        "plt.imshow(X_test[100].reshape(28, 28), cmap='gray')\n",
        "y_pred = model.predict(X_test[100].reshape(1, 28, 28, 1))\n",
        "print(\"Predicted label:\", y_pred.argmax())\n",
        "print(\"Softmax Outputs:\", y_pred)\n",
        "print(y_pred.sum())"
      ],
      "metadata": {
        "colab": {
          "base_uri": "https://localhost:8080/",
          "height": 357
        },
        "id": "7D6D8VehfTEY",
        "outputId": "a88ed2e7-b984-4b23-fe1c-06f706fb12f7"
      },
      "execution_count": 17,
      "outputs": [
        {
          "output_type": "stream",
          "name": "stdout",
          "text": [
            "1/1 [==============================] - 0s 112ms/step\n",
            "Predicted label: 6\n",
            "Softmax Outputs: [[3.2912480e-06 4.5719277e-09 2.6326313e-10 3.5168798e-11 1.9377767e-07\n",
            "  2.5633037e-07 9.9999619e-01 2.0899703e-08 5.2438530e-08 2.6211927e-10]]\n",
            "1.0\n"
          ]
        },
        {
          "output_type": "display_data",
          "data": {
            "text/plain": [
              "<Figure size 432x288 with 1 Axes>"
            ],
            "image/png": "[encoded data removed]"
          },
          "metadata": {
            "needs_background": "light"
          }
        }
      ]
    },
    {
      "cell_type": "markdown",
      "source": [
        "Final loss and accuracy"
      ],
      "metadata": {
        "id": "HYN6JZbefofM"
      }
    },
    {
      "cell_type": "code",
      "source": [
        "model.evaluate(X_test , y_test)"
      ],
      "metadata": {
        "colab": {
          "base_uri": "https://localhost:8080/"
        },
        "id": "S6sDoDeSfmvo",
        "outputId": "cd29ef0e-3971-464e-87e9-2360d5872164"
      },
      "execution_count": 18,
      "outputs": [
        {
          "output_type": "stream",
          "name": "stdout",
          "text": [
            "313/313 [==============================] - 1s 3ms/step - loss: 0.0295 - accuracy: 0.9904\n"
          ]
        },
        {
          "output_type": "execute_result",
          "data": {
            "text/plain": [
              "[0.029515139758586884, 0.9904000163078308]"
            ]
          },
          "metadata": {},
          "execution_count": 18
        }
      ]
    },
    {
      "cell_type": "code",
      "source": [
        "loss , acc = model.evaluate(X_test , y_test)\n",
        "print(\"\\n Test accuracy: %.lf%%\" %(100.0*acc))"
      ],
      "metadata": {
        "colab": {
          "base_uri": "https://localhost:8080/"
        },
        "id": "l27zU7R1fvOH",
        "outputId": "b8ae795c-17ca-449d-fb02-54fc65ebd019"
      },
      "execution_count": 19,
      "outputs": [
        {
          "output_type": "stream",
          "name": "stdout",
          "text": [
            "313/313 [==============================] - 1s 3ms/step - loss: 0.0295 - accuracy: 0.9904\n",
            "\n",
            " Test accuracy: 99%\n"
          ]
        }
      ]
    },
    {
      "cell_type": "code",
      "source": [
        "loss , acc = model.evaluate(X_train , y_train)\n",
        "print(\"\\n Train accuracy: %.lf%%\" %(100.0*acc))"
      ],
      "metadata": {
        "colab": {
          "base_uri": "https://localhost:8080/"
        },
        "id": "p2xZYpYcf-Ow",
        "outputId": "32a1bf43-fc53-4e6c-9a18-45f01bf54938"
      },
      "execution_count": 20,
      "outputs": [
        {
          "output_type": "stream",
          "name": "stdout",
          "text": [
            "1875/1875 [==============================] - 6s 3ms/step - loss: 0.0118 - accuracy: 0.9966\n",
            "\n",
            " Train accuracy: 100%\n"
          ]
        }
      ]
    },
    {
      "cell_type": "code",
      "source": [],
      "metadata": {
        "id": "grHDSZvagsfP"
      },
      "execution_count": 20,
      "outputs": []
    }
  ]
}