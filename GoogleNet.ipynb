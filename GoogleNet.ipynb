{
  "nbformat": 4,
  "nbformat_minor": 0,
  "metadata": {
    "colab": {
      "provenance": [],
      "authorship_tag": "ABX9TyO7RzqjBv66T3MDAN8frskW",
      "include_colab_link": true
    },
    "kernelspec": {
      "name": "python3",
      "display_name": "Python 3"
    },
    "language_info": {
      "name": "python"
    },
    "accelerator": "GPU",
    "gpuClass": "standard"
  },
  "cells": [
    {
      "cell_type": "markdown",
      "metadata": {
        "id": "view-in-github",
        "colab_type": "text"
      },
      "source": [
        "<a href=\"https://colab.research.google.com/github/anish2105/CNN/blob/main/GoogleNet.ipynb\" target=\"_parent\"><img src=\"https://colab.research.google.com/assets/colab-badge.svg\" alt=\"Open In Colab\"/></a>"
      ]
    },
    {
      "cell_type": "markdown",
      "source": [
        "**Google Net/Inception Net**"
      ],
      "metadata": {
        "id": "G_6n7IfeDd0Z"
      }
    },
    {
      "cell_type": "code",
      "source": [
        "import tensorflow as tf\n",
        "import keras\n",
        "\n",
        "from keras.layers import Conv2D , MaxPooling2D , Dense , Flatten , Activation , Dropout\n",
        "from keras.models import Sequential\n",
        "from tensorflow.keras.utils import to_categorical , plot_model\n",
        "from keras.layers import BatchNormalization\n",
        "import numpy as np\n",
        "np.random.seed(1000)"
      ],
      "metadata": {
        "id": "nVAKlL0wDgdq"
      },
      "execution_count": 1,
      "outputs": []
    },
    {
      "cell_type": "code",
      "source": [
        "from keras.datasets import cifar10\n",
        "(X_train, y_train), (X_test, y_test) = cifar10.load_data()"
      ],
      "metadata": {
        "colab": {
          "base_uri": "https://localhost:8080/"
        },
        "id": "-Js3boFqETlg",
        "outputId": "76efde04-12fe-40d6-b935-ce5d79deb4aa"
      },
      "execution_count": 2,
      "outputs": [
        {
          "output_type": "stream",
          "name": "stdout",
          "text": [
            "Downloading data from https://www.cs.toronto.edu/~kriz/cifar-10-python.tar.gz\n",
            "170498071/170498071 [==============================] - 14s 0us/step\n"
          ]
        }
      ]
    },
    {
      "cell_type": "code",
      "source": [
        "X_train = X_train.astype('float32')\n",
        "X_test = X_test.astype('float32')\n",
        "X_train = X_train / 255.0\n",
        "X_test = X_test / 255.0"
      ],
      "metadata": {
        "id": "MGGKx_CiEWah"
      },
      "execution_count": 3,
      "outputs": []
    },
    {
      "cell_type": "code",
      "source": [
        "from keras.utils import np_utils\n",
        "y_train = np_utils.to_categorical(y_train)\n",
        "y_test = np_utils.to_categorical(y_test)"
      ],
      "metadata": {
        "id": "TqePsBKLEc8x"
      },
      "execution_count": 4,
      "outputs": []
    },
    {
      "cell_type": "code",
      "source": [
        "from keras.layers import Input\n",
        "input_img = Input(shape = (32, 32, 3))"
      ],
      "metadata": {
        "id": "ns0l3s53Ekgo"
      },
      "execution_count": 5,
      "outputs": []
    },
    {
      "cell_type": "code",
      "source": [
        "from keras.layers import Conv2D, MaxPooling2D\n",
        "\n",
        "tower_1 = Conv2D(64, (1,1), padding='same', activation='relu')(input_img)\n",
        "tower_1 = Conv2D(64, (3,3), padding='same', activation='relu')(tower_1)\n",
        "\n",
        "tower_2 = Conv2D(64, (1,1), padding='same', activation='relu')(input_img)\n",
        "tower_2 = Conv2D(64, (5,5), padding='same', activation='relu')(tower_2)\n",
        "\n",
        "tower_3 = MaxPooling2D((3,3), strides=(1,1), padding='same')(input_img)\n",
        "tower_3 = Conv2D(64, (1,1), padding='same', activation='relu')(tower_3)\n",
        "\n",
        "output = keras.layers.concatenate([tower_1, tower_2, tower_3], axis = 3)\n",
        "\n",
        "from keras.layers import Flatten, Dense\n",
        "output = Flatten()(output)\n",
        "out    = Dense(10, activation='softmax')(output)"
      ],
      "metadata": {
        "id": "hpULBMiBEnsQ"
      },
      "execution_count": 6,
      "outputs": []
    },
    {
      "cell_type": "code",
      "source": [
        "from keras.models import Model\n",
        "model = Model(inputs = input_img, outputs = out)\n",
        "# print model.summary()"
      ],
      "metadata": {
        "id": "QXQyCMPWEy1B"
      },
      "execution_count": 7,
      "outputs": []
    },
    {
      "cell_type": "code",
      "source": [
        "from tensorflow.keras.optimizers import SGD\n",
        "epochs = 5\n",
        "lrate = 0.01\n",
        "decay = lrate/epochs\n",
        "sgd = SGD(lr=lrate, momentum=0.9, decay=decay, nesterov=False)\n",
        "model.compile(loss='categorical_crossentropy', optimizer=sgd, metrics=['accuracy'])\n",
        "model.fit(X_train, y_train, validation_data=(X_test, y_test), epochs=epochs, batch_size=32)"
      ],
      "metadata": {
        "colab": {
          "base_uri": "https://localhost:8080/"
        },
        "id": "otlhJW3ME1J5",
        "outputId": "dfef9670-c180-4ce2-df13-f79c8d198ade"
      },
      "execution_count": 8,
      "outputs": [
        {
          "output_type": "stream",
          "name": "stderr",
          "text": [
            "/usr/local/lib/python3.8/dist-packages/keras/optimizers/optimizer_v2/gradient_descent.py:108: UserWarning: The `lr` argument is deprecated, use `learning_rate` instead.\n",
            "  super(SGD, self).__init__(name, **kwargs)\n"
          ]
        },
        {
          "output_type": "stream",
          "name": "stdout",
          "text": [
            "Epoch 1/5\n",
            "1563/1563 [==============================] - 29s 13ms/step - loss: 1.5307 - accuracy: 0.4568 - val_loss: 1.3325 - val_accuracy: 0.5235\n",
            "Epoch 2/5\n",
            "1563/1563 [==============================] - 19s 12ms/step - loss: 1.2140 - accuracy: 0.5757 - val_loss: 1.2038 - val_accuracy: 0.5751\n",
            "Epoch 3/5\n",
            "1563/1563 [==============================] - 18s 11ms/step - loss: 1.0919 - accuracy: 0.6220 - val_loss: 1.1189 - val_accuracy: 0.6124\n",
            "Epoch 4/5\n",
            "1563/1563 [==============================] - 18s 11ms/step - loss: 1.0126 - accuracy: 0.6489 - val_loss: 1.0997 - val_accuracy: 0.6168\n",
            "Epoch 5/5\n",
            "1563/1563 [==============================] - 18s 11ms/step - loss: 0.9590 - accuracy: 0.6699 - val_loss: 1.0996 - val_accuracy: 0.6200\n"
          ]
        },
        {
          "output_type": "execute_result",
          "data": {
            "text/plain": [
              "<keras.callbacks.History at 0x7f36b01a2100>"
            ]
          },
          "metadata": {},
          "execution_count": 8
        }
      ]
    },
    {
      "cell_type": "code",
      "source": [],
      "metadata": {
        "id": "a5ZzUY7fE4Sp"
      },
      "execution_count": 8,
      "outputs": []
    }
  ]
}